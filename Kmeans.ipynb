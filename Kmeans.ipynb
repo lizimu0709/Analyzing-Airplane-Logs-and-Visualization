{
 "cells": [
  {
   "cell_type": "code",
   "execution_count": 4,
   "metadata": {},
   "outputs": [
    {
     "name": "stdout",
     "output_type": "stream",
     "text": [
      "Cluster centers:\n",
      "[[-0.25350353  0.73376474]\n",
      " [-0.32234367 -0.31127803]\n",
      " [ 0.63348869 -0.08232679]\n",
      " [-0.00163643  0.17237573]\n",
      " [-0.50866689  0.01757356]]\n",
      "Cluster sizes:\n",
      "1    126\n",
      "2     98\n",
      "3     85\n",
      "0     44\n",
      "4     20\n",
      "dtype: int64\n"
     ]
    },
    {
     "data": {
      "image/png": "[encoded data removed]",
      "text/plain": [
       "<Figure size 432x288 with 1 Axes>"
      ]
     },
     "metadata": {
      "needs_background": "light"
     },
     "output_type": "display_data"
    }
   ],
   "source": [
    "import pandas as pd\n",
    "from sklearn.feature_extraction.text import TfidfVectorizer\n",
    "from sklearn.cluster import KMeans\n",
    "from sklearn.decomposition import PCA\n",
    "import matplotlib.pyplot as plt\n",
    "\n",
    "# Read the log file line by line and create a new unit every 8 lines\n",
    "with open('Dataload_UW_dataset.log') as f:\n",
    "    lines = f.readlines()\n",
    "data = []\n",
    "unit = []\n",
    "for line in lines:\n",
    "    if '-----' in line:\n",
    "        if unit:\n",
    "            data.append(unit)\n",
    "            unit = []\n",
    "    else:\n",
    "        unit.append(line.strip())\n",
    "if unit:\n",
    "    data.append(unit)\n",
    "\n",
    "# Extract the relevant information from each unit and join into a single string\n",
    "data_str = []\n",
    "for unit in data:\n",
    "    dataload_target = ''\n",
    "    software_part_number = ''\n",
    "    dataload_protocol = ''\n",
    "    features = ''\n",
    "    for line in unit:\n",
    "        if 'Features:' in line:\n",
    "            features = line.split(':')[1].strip()\n",
    "    unit_str = features\n",
    "    data_str.append(unit_str)\n",
    "\n",
    "# Apply TF-IDF vectorization\n",
    "vectorizer = TfidfVectorizer(stop_words='english')\n",
    "features_tfidf = vectorizer.fit_transform(data_str)\n",
    "\n",
    "# Apply PCA to the TF-IDF features\n",
    "pca = PCA(n_components=2)\n",
    "features_pca = pca.fit_transform(features_tfidf.toarray())\n",
    "\n",
    "# Scale the PCA-transformed features\n",
    "scaler = StandardScaler()\n",
    "features_scaled = scaler.fit_transform(features_pca)\n",
    "\n",
    "# Apply K-means clustering to the PCA-transformed features\n",
    "kmeans = KMeans(n_clusters=5, random_state=42)\n",
    "kmeans.fit(features_pca)\n",
    "\n",
    "# Print the cluster centers\n",
    "print('Cluster centers:')\n",
    "print(kmeans.cluster_centers_)\n",
    "\n",
    "# Assign cluster labels to each data point\n",
    "labels = kmeans.labels_\n",
    "\n",
    "# Print the number of data points in each cluster\n",
    "print('Cluster sizes:')\n",
    "print(pd.Series(labels).value_counts())\n",
    "\n",
    "# Plot the clusters in 2D\n",
    "fig, ax = plt.subplots()\n",
    "scatter = ax.scatter(features_pca[:,0], features_pca[:,1], c=labels, cmap='rainbow')\n",
    "legend1 = ax.legend(*scatter.legend_elements(),\n",
    "                    loc=\"upper right\", title=\"Clusters\")\n",
    "ax.add_artist(legend1)\n",
    "plt.show()\n"
   ]
  }
 ],
 "metadata": {
  "kernelspec": {
   "display_name": "base",
   "language": "python",
   "name": "python3"
  },
  "language_info": {
   "codemirror_mode": {
    "name": "ipython",
    "version": 3
   },
   "file_extension": ".py",
   "mimetype": "text/x-python",
   "name": "python",
   "nbconvert_exporter": "python",
   "pygments_lexer": "ipython3",
   "version": "3.8.3"
  },
  "orig_nbformat": 4,
  "vscode": {
   "interpreter": {
    "hash": "99e48a292215f65d196da71aa40f79334428916bf48b5ed5600ca07161c49afe"
   }
  }
 },
 "nbformat": 4,
 "nbformat_minor": 2
}
